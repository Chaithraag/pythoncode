{
 "cells": [
  {
   "cell_type": "code",
   "execution_count": 2,
   "id": "9aefcd0a",
   "metadata": {},
   "outputs": [
    {
     "name": "stdout",
     "output_type": "stream",
     "text": [
      "    Names  Ages       Cities\n",
      "0   Alice    25      Newyork\n",
      "1     bob    32  Sanfrancico\n",
      "2  Charli    28   Los angels\n",
      "3   David    45      Chicago\n",
      "4     Eve    29        Miami\n"
     ]
    }
   ],
   "source": [
    "import pandas as pd \n",
    "data={\n",
    "'Names':['Alice','bob','Charli','David','Eve'],\n",
    "'Ages':[25,32,28,45,29],\n",
    "'Cities':['Newyork','Sanfrancico','Los angels','Chicago','Miami']\n",
    "}\n",
    "df=pd.DataFrame(data)\n",
    "print(df)"
   ]
  },
  {
   "cell_type": "code",
   "execution_count": null,
   "id": "3acbe496",
   "metadata": {},
   "outputs": [],
   "source": []
  }
 ],
 "metadata": {
  "kernelspec": {
   "display_name": "Python 3 (ipykernel)",
   "language": "python",
   "name": "python3"
  },
  "language_info": {
   "codemirror_mode": {
    "name": "ipython",
    "version": 3
   },
   "file_extension": ".py",
   "mimetype": "text/x-python",
   "name": "python",
   "nbconvert_exporter": "python",
   "pygments_lexer": "ipython3",
   "version": "3.11.4"
  }
 },
 "nbformat": 4,
 "nbformat_minor": 5
}
