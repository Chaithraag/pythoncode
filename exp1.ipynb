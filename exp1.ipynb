{
 "cells": [
  {
   "cell_type": "code",
   "execution_count": 1,
   "id": "3453114d",
   "metadata": {},
   "outputs": [],
   "source": [
    "import pandas as pd"
   ]
  },
  {
   "cell_type": "code",
   "execution_count": 3,
   "id": "7b8f5a35",
   "metadata": {},
   "outputs": [],
   "source": [
    "names=pd.Series(['Alice','bob','Charli','David','Eve',])\n",
    "ages=pd.Series([25,32,28,45,29])\n",
    "cities=pd.Series(['Newyork','Sanfrancico','Los angels','Chicago','Miami'])"
   ]
  },
  {
   "cell_type": "code",
   "execution_count": 4,
   "id": "cf8f6a78",
   "metadata": {},
   "outputs": [],
   "source": [
    "data={\n",
    "'Name':names,\n",
    "'Age':ages,\n",
    "'City':cities,\n",
    "}\n"
   ]
  },
  {
   "cell_type": "code",
   "execution_count": 5,
   "id": "371ec353",
   "metadata": {},
   "outputs": [
    {
     "name": "stdout",
     "output_type": "stream",
     "text": [
      "     Name  Age         City\n",
      "0   Alice   25      Newyork\n",
      "1     bob   32  Sanfrancico\n",
      "2  Charli   28   Los angels\n",
      "3   David   45      Chicago\n",
      "4     Eve   29        Miami\n"
     ]
    }
   ],
   "source": [
    "df=pd.DataFrame(data)\n",
    "print(df)"
   ]
  },
  {
   "cell_type": "code",
   "execution_count": null,
   "id": "c5ee3826",
   "metadata": {},
   "outputs": [],
   "source": []
  }
 ],
 "metadata": {
  "kernelspec": {
   "display_name": "Python 3 (ipykernel)",
   "language": "python",
   "name": "python3"
  },
  "language_info": {
   "codemirror_mode": {
    "name": "ipython",
    "version": 3
   },
   "file_extension": ".py",
   "mimetype": "text/x-python",
   "name": "python",
   "nbconvert_exporter": "python",
   "pygments_lexer": "ipython3",
   "version": "3.11.4"
  }
 },
 "nbformat": 4,
 "nbformat_minor": 5
}
