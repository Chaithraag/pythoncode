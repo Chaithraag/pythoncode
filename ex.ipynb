{
 "cells": [
  {
   "cell_type": "code",
   "execution_count": 5,
   "id": "71af1476",
   "metadata": {},
   "outputs": [
    {
     "name": "stdout",
     "output_type": "stream",
     "text": [
      "   empno    ename qualification subject\n",
      "0    101     rama            BE      cs\n",
      "1    102    bhima       diploma      me\n",
      "2    103   mahesh        m.tech      ec\n",
      "3    104   lokesh           bsc      ai\n",
      "4    105  prathvi           msc      ce\n"
     ]
    }
   ],
   "source": [
    "import pandas as pd\n",
    "data={\n",
    "      'empno':[101,102,103,104,105],\n",
    "      'ename':['rama','bhima','mahesh','lokesh','prathvi'],\n",
    "      'qualification':['BE','diploma','m.tech','bsc','msc'], \n",
    "      'subject':['cs','me','ec','ai','ce']\n",
    "      }\n",
    "df=pd.DataFrame(data)\n",
    "print(df)"
   ]
  },
  {
   "cell_type": "code",
   "execution_count": 7,
   "id": "04932617",
   "metadata": {},
   "outputs": [
    {
     "name": "stdout",
     "output_type": "stream",
     "text": [
      "0    101\n",
      "1    102\n",
      "2    103\n",
      "3    104\n",
      "4    105\n",
      "Name: empno, dtype: int64\n",
      "   empno    ename\n",
      "0    101     rama\n",
      "1    102    bhima\n",
      "2    103   mahesh\n",
      "3    104   lokesh\n",
      "4    105  prathvi\n"
     ]
    }
   ],
   "source": [
    "print(df['empno'])\n",
    "print(df[['empno','ename']])"
   ]
  },
  {
   "cell_type": "code",
   "execution_count": 9,
   "id": "bd72ff1b",
   "metadata": {},
   "outputs": [
    {
     "name": "stdout",
     "output_type": "stream",
     "text": [
      "   empno    ename qualification subject  salary\n",
      "0    101     rama            BE      cs    6000\n",
      "1    102    bhima       diploma      me    7000\n",
      "2    103   mahesh        m.tech      ec    9000\n",
      "3    104   lokesh           bsc      ai    7500\n",
      "4    105  prathvi           msc      ce    8500\n"
     ]
    }
   ],
   "source": [
    "df['salary']=[6000,7000,9000,7500,8500]\n",
    "print(df)"
   ]
  },
  {
   "cell_type": "code",
   "execution_count": 11,
   "id": "713e6aa2",
   "metadata": {},
   "outputs": [
    {
     "name": "stdout",
     "output_type": "stream",
     "text": [
      "   empno    ename qualification subject  salary  age\n",
      "0    101     rama            BE      cs    6000   45\n",
      "1    102    bhima       diploma      me    7000   20\n",
      "2    103   mahesh        m.tech      ec    9000   58\n",
      "3    104   lokesh           bsc      ai    7500   63\n",
      "4    105  prathvi           msc      ce    8500   29\n"
     ]
    }
   ],
   "source": [
    "df['age']=[45,20,58,63,29]\n",
    "print(df)"
   ]
  },
  {
   "cell_type": "code",
   "execution_count": 12,
   "id": "e3ec6606",
   "metadata": {},
   "outputs": [
    {
     "name": "stdout",
     "output_type": "stream",
     "text": [
      "   empno    ename qualification subject  salary  age\n",
      "1    102    bhima       diploma      me    7000   20\n",
      "4    105  prathvi           msc      ce    8500   29\n"
     ]
    }
   ],
   "source": [
    "young_people=df[df['age']<30]\n",
    "print(young_people)"
   ]
  },
  {
   "cell_type": "code",
   "execution_count": null,
   "id": "2f249018",
   "metadata": {},
   "outputs": [],
   "source": []
  }
 ],
 "metadata": {
  "kernelspec": {
   "display_name": "Python 3 (ipykernel)",
   "language": "python",
   "name": "python3"
  },
  "language_info": {
   "codemirror_mode": {
    "name": "ipython",
    "version": 3
   },
   "file_extension": ".py",
   "mimetype": "text/x-python",
   "name": "python",
   "nbconvert_exporter": "python",
   "pygments_lexer": "ipython3",
   "version": "3.11.4"
  }
 },
 "nbformat": 4,
 "nbformat_minor": 5
}
