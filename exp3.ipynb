{
 "cells": [
  {
   "cell_type": "code",
   "execution_count": 1,
   "id": "b503ade6",
   "metadata": {},
   "outputs": [
    {
     "name": "stdout",
     "output_type": "stream",
     "text": [
      "   Employeno   Ename Qualification Subject\n",
      "0        101    Rama            BE      cs\n",
      "1        102   Bhima       Diploma      ME\n",
      "2        103  Mahesh         Mtech      EC\n",
      "3        104  Lokesh           Bsc      AT\n",
      "4        105   Shama           Msc      CE\n"
     ]
    }
   ],
   "source": [
    "import pandas as pd \n",
    "data={\n",
    "'Employeno':[101,102,103,104,105],\n",
    "'Ename':['Rama','Bhima','Mahesh','Lokesh','Shama'],\n",
    "'Qualification':['BE','Diploma','Mtech','Bsc','Msc'],\n",
    "'Subject':['cs','ME','EC','AT','CE']\n",
    "}\n",
    "df=pd.DataFrame(data)\n",
    "print(df)"
   ]
  },
  {
   "cell_type": "code",
   "execution_count": null,
   "id": "266e20bb",
   "metadata": {},
   "outputs": [],
   "source": []
  }
 ],
 "metadata": {
  "kernelspec": {
   "display_name": "Python 3 (ipykernel)",
   "language": "python",
   "name": "python3"
  },
  "language_info": {
   "codemirror_mode": {
    "name": "ipython",
    "version": 3
   },
   "file_extension": ".py",
   "mimetype": "text/x-python",
   "name": "python",
   "nbconvert_exporter": "python",
   "pygments_lexer": "ipython3",
   "version": "3.11.4"
  }
 },
 "nbformat": 4,
 "nbformat_minor": 5
}
